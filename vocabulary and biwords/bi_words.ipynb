{
 "cells": [
  {
   "cell_type": "code",
   "execution_count": 24,
   "id": "809ff55f-e1e6-4540-b9e9-7457793314c6",
   "metadata": {},
   "outputs": [],
   "source": [
    "import numpy as np\n",
    "from hazm import *\n",
    "import pandas as pd\n",
    "from collections import Counter"
   ]
  },
  {
   "cell_type": "code",
   "execution_count": 25,
   "id": "7afe6c4b-3566-4f64-bf45-aa6a6ef6758d",
   "metadata": {},
   "outputs": [],
   "source": [
    "df1 = pd.read_csv('ham_culture.csv', nrows=50)\n",
    "df2 = pd.read_csv('ham_economy.csv', nrows=50)\n",
    "df3 = pd.read_csv('ham_politics.csv', nrows=50)\n",
    "df4 = pd.read_csv('ham_sport.csv', nrows=50)\n",
    "df5 = pd.read_csv('irna_culture.csv', nrows=50)\n",
    "df6 = pd.read_csv('irna_economy.csv', nrows=50)\n",
    "df7 = pd.read_csv('irna_politics.csv', nrows=50)\n",
    "df8 = pd.read_csv('irna_sport.csv', nrows=50)\n",
    "df9 = pd.read_csv('isna_culture.csv', nrows=50)\n",
    "df10 = pd.read_csv('isna_economy.csv', nrows=50)\n",
    "df11 = pd.read_csv('isna_politics.csv', nrows=50)\n",
    "df12 = pd.read_csv('isna_sport.csv', nrows=50)\n",
    "df13 = pd.read_csv('mehr_culture.csv', nrows=50)\n",
    "df14 = pd.read_csv('mehr_economy.csv', nrows=50)\n",
    "df15 = pd.read_csv('mehr_politics.csv', nrows=50)\n",
    "df16 = pd.read_csv('mehr_sport.csv', nrows=50)\n",
    "docs = [df1, df2, df3, df4, df5, df6, df7, df8, df9, df10, df11, df12, df13, df14, df15, df16]"
   ]
  },
  {
   "cell_type": "code",
   "execution_count": 26,
   "id": "9abe7af5-f0bf-4dd3-a405-62fc9f757ef1",
   "metadata": {},
   "outputs": [
    {
     "name": "stdout",
     "output_type": "stream",
     "text": [
      "1595470\n",
      "<class 'str'>\n",
      "1\n"
     ]
    }
   ],
   "source": [
    "unprocessed = str()\n",
    "for i in range(16):\n",
    "    for j in range (len(docs[i])):\n",
    "        unprocessed+=docs[i]['Text'][j]\n",
    "print(len(unprocessed))\n",
    "print(type(unprocessed[0]))\n",
    "print(len(unprocessed[3]))"
   ]
  },
  {
   "cell_type": "code",
   "execution_count": 27,
   "id": "0fd8a3c5-b708-4324-88cf-061117c078ba",
   "metadata": {
    "tags": []
   },
   "outputs": [
    {
     "name": "stdout",
     "output_type": "stream",
     "text": [
      "1545207\n"
     ]
    }
   ],
   "source": [
    "characters_to_remove = [':', ';', '\"\"', '!', '؟', '|', '>', '<', '،', \"''\", ')', '(', '»', '«', '/', '\\\\', '_', '-', '؛', '.',\n",
    "                        '\\u200c', '\\\\u200c', '/u200c', '//u200c', 'u200c\\\\', 'انتهای پیام', 'کد خبر',\n",
    "                        'A', 'B', 'C', 'D', 'E', 'F', 'G', 'H', 'I', 'J', 'K', 'L', 'M', 'N', \n",
    "                        'O', 'P', 'Q', 'R', 'S', 'T', 'U', 'V', 'W', 'X', 'Y', 'Z', \n",
    "                        'a', 'b', 'c', 'd', 'e', 'f', 'g', 'h', 'i', 'j', 'k', 'l', 'm', 'n', \n",
    "                        'o', 'p', 'q', 'r', 's', 't', 'u', 'v', 'w', 'x', 'y', 'z', '0', '1', '2', '3', '4', '5', '6', '7', '8', '9',]\n",
    "for j in characters_to_remove:\n",
    "    unprocessed = unprocessed.replace(j,'')\n",
    "print(len(unprocessed))"
   ]
  },
  {
   "cell_type": "code",
   "execution_count": 29,
   "id": "dc1da2ca-7c05-4814-9ccb-d476fd113a7b",
   "metadata": {
    "tags": []
   },
   "outputs": [],
   "source": [
    "def preprocess(data):\n",
    "    #normalizing data\n",
    "    normalizer = Normalizer()\n",
    "    norm_data = normalizer.remove_specials_chars(data)\n",
    "    norm_data = normalizer.normalize(norm_data)    \n",
    "    # Tokenize data\n",
    "    tokens = word_tokenize(norm_data)\n",
    "\n",
    "    # Remove stopwords \n",
    "    stop_words = set(stopwords_list())\n",
    "    tokens = [word for word in tokens if word not in stop_words ]\n",
    "\n",
    "    # Lemmatize words\n",
    "    lemmatizer = Lemmatizer()\n",
    "    tokens = [lemmatizer.lemmatize(word) for word in tokens]\n",
    "\n",
    "\n",
    "    return tokens"
   ]
  },
  {
   "cell_type": "code",
   "execution_count": 30,
   "id": "f3e99e2d-4d3e-41aa-90b8-d34d2d4db6b4",
   "metadata": {
    "tags": []
   },
   "outputs": [],
   "source": [
    "tokens_a=preprocess(unprocessed)"
   ]
  },
  {
   "cell_type": "code",
   "execution_count": 31,
   "id": "39bbc097-16fc-43ac-b2f4-43fb10b43172",
   "metadata": {
    "tags": []
   },
   "outputs": [
    {
     "data": {
      "text/plain": [
       "176239"
      ]
     },
     "execution_count": 31,
     "metadata": {},
     "output_type": "execute_result"
    }
   ],
   "source": [
    "len(tokens_a)\n",
    "#tokens_a"
   ]
  },
  {
   "cell_type": "code",
   "execution_count": 33,
   "id": "63f0fb44-9c88-4139-8647-ea61f6a20944",
   "metadata": {
    "tags": []
   },
   "outputs": [
    {
     "data": {
      "text/plain": [
       "176238"
      ]
     },
     "execution_count": 33,
     "metadata": {},
     "output_type": "execute_result"
    }
   ],
   "source": [
    "bi_words = [tokens_a[i]+' '+tokens_a[i+1] for i in range(len(tokens_a)-1)]\n",
    "len(bi_words)"
   ]
  },
  {
   "cell_type": "code",
   "execution_count": 34,
   "id": "28037e8d-1a2b-4db3-b58b-465269b1910b",
   "metadata": {
    "tags": []
   },
   "outputs": [
    {
     "name": "stdout",
     "output_type": "stream",
     "text": [
      "15240\n"
     ]
    }
   ],
   "source": [
    "#vocabulary\n",
    "counter_a=Counter(tokens_a)\n",
    "print(len(counter_a))\n",
    "#count_a"
   ]
  },
  {
   "cell_type": "code",
   "execution_count": 38,
   "id": "404f633c-b70f-4a4d-b433-1e890c0935f4",
   "metadata": {
    "tags": []
   },
   "outputs": [
    {
     "name": "stdout",
     "output_type": "stream",
     "text": [
      "119976\n"
     ]
    }
   ],
   "source": [
    "# bi_words\n",
    "biwords_count = Counter(bi_words)\n",
    "print(len(count))\n",
    "#biwords_count"
   ]
  },
  {
   "cell_type": "code",
   "execution_count": 112,
   "id": "ee60d154-c9c1-4606-a2b7-e1c68fd06e53",
   "metadata": {
    "tags": []
   },
   "outputs": [],
   "source": [
    "with open('vocabulary.txt', 'w', encoding=\"utf-8\") as data:\n",
    "    data.write(str(counter_a))"
   ]
  },
  {
   "cell_type": "code",
   "execution_count": null,
   "id": "600874ec-f9e9-4d58-9f35-088dd480ec69",
   "metadata": {},
   "outputs": [],
   "source": []
  }
 ],
 "metadata": {
  "kernelspec": {
   "display_name": "Python 3 (ipykernel)",
   "language": "python",
   "name": "python3"
  },
  "language_info": {
   "codemirror_mode": {
    "name": "ipython",
    "version": 3
   },
   "file_extension": ".py",
   "mimetype": "text/x-python",
   "name": "python",
   "nbconvert_exporter": "python",
   "pygments_lexer": "ipython3",
   "version": "3.11.5"
  }
 },
 "nbformat": 4,
 "nbformat_minor": 5
}
